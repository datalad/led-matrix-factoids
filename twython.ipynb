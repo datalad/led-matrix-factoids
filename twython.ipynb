{
 "metadata": {
  "name": "",
  "signature": "sha256:a49c8008437eed706c3a72885ddc9b1820fbd509cf01113626d2515f4f7fcd1b"
 },
 "nbformat": 3,
 "nbformat_minor": 0,
 "worksheets": [
  {
   "cells": [
    {
     "cell_type": "heading",
     "level": 1,
     "metadata": {},
     "source": [
      "A really crummy hack to present factoids etc on the LED matrix"
     ]
    },
    {
     "cell_type": "code",
     "collapsed": false,
     "input": [
      "import random\n",
      "\n",
      "import sys\n",
      "from twython import Twython, TwythonError\n",
      "import time\n",
      "\n",
      "# various keys for twitter etc\n",
      "from private import *"
     ],
     "language": "python",
     "metadata": {},
     "outputs": [],
     "prompt_number": 36
    },
    {
     "cell_type": "code",
     "collapsed": false,
     "input": [
      "# Requires Authentication as of Twitter API v1.1\n",
      "twitter = Twython(APP_KEY, APP_SECRET, OAUTH_TOKEN, OAUTH_TOKEN_SECRET)\n",
      "\n",
      "seen = set()\n",
      "twitter_refresh = 60\n",
      "twitter_last = 0\n",
      "\n",
      "def get_tweets():\n",
      "    global twitter_last\n",
      "    tweets = []\n",
      "    if time.time() - twitter_last < twitter_refresh:\n",
      "        # do not check yet\n",
      "        return tweets\n",
      "    twitter_last = time.time()\n",
      "    # hashtags\n",
      "    for hashtag in ['sfn15', 'pymvpa', 'datalad', 'neurodebian']:\n",
      "        try:\n",
      "            search_results = twitter.search(q='#' + hashtag, count=10)\n",
      "            tweets.extend(search_results['statuses'])\n",
      "        except TwythonError as e:\n",
      "            print e\n",
      "\n",
      "    # our timeline\n",
      "    tweets.extend(twitter.get_user_timeline())\n",
      "\n",
      "    had_new = False\n",
      "    out = []\n",
      "    for tweet in tweets:\n",
      "        id_ = tweet['id']\n",
      "        if id_ in seen:\n",
      "            continue\n",
      "        seen.add(id_)\n",
      "        had_new = True\n",
      "        out.append({\n",
      "            'text': tweet['text'],\n",
      "            'source': '@'+tweet['user']['screen_name'].encode('utf-8'),\n",
      "            'tweet': tweet['id']})\n",
      "        #print \"%s\\n@%s https://twitter.com/statuses/%s\\n\" % (tweet['text'],\n",
      "        #                        tweet['user']['screen_name'].encode('utf-8'),\n",
      "        #                        #tweet.get('urls', {}).get('url', ''),\n",
      "        #                        tweet['id']\n",
      "        #                        )\n",
      "        #sys.stdout.flush()\n",
      "\n",
      "    return out\n",
      "    #if had_new:\n",
      "    #    print \"sleeping\"\n",
      "    #    sys.stdout.flush()\n",
      "    #time.sleep(60)\n"
     ],
     "language": "python",
     "metadata": {},
     "outputs": [],
     "prompt_number": 37
    },
    {
     "cell_type": "code",
     "collapsed": false,
     "input": [
      "import yaml\n",
      "\n",
      "def render_entry(d):\n",
      "    # first line will always be just a text\n",
      "    l1 = d['text']\n",
      "    # compose 2nd line if present\n",
      "    l2 = ''\n",
      "    if len(d)>1:\n",
      "        l = [d.get('source', '')]\n",
      "        l.append(d.get('url')) # TODO: shorten\n",
      "        if 'tweet' in d:\n",
      "            l.append('https://twitter.com/ChrisFiloG/status/%s' % d['tweet'])\n",
      "        if 'doi' in d:\n",
      "            l.append('http://dx.doi.org/%s' % d['doi'])\n",
      "\n",
      "        l2 = ' '.join(filter(bool, l))\n",
      "    # indent 2nd line so it right aligned\n",
      "    if l2:\n",
      "        l2 = ' '*(max(0, len(l1) - len(l2))) + l2\n",
      "    return l1, l2\n",
      "\n",
      "stream = open(\"factoids.yaml\", \"r\")\n",
      "docs = yaml.load_all(stream)\n",
      "factoids = []\n",
      "for doc_ in docs:\n",
      "  for doc in doc_:  \n",
      "    factoids.append(doc)"
     ],
     "language": "python",
     "metadata": {},
     "outputs": [],
     "prompt_number": 38
    },
    {
     "cell_type": "code",
     "collapsed": false,
     "input": [
      "# so we have factoids and also can ask for new tweets from time to time\n",
      "while True:\n",
      "    pool = get_tweets()\n",
      "    if not pool:\n",
      "        # get random factoid\n",
      "        pool = [random.choice(factoids)]\n",
      "    for doc in pool:\n",
      "        print \"\\n\".join(filter(bool, render_entry(doc)))\n",
      "        print \"\\n\",\n",
      "        time.sleep(1) # as we had presented it for 1 sec"
     ],
     "language": "python",
     "metadata": {},
     "outputs": [
      {
       "output_type": "stream",
       "stream": "stdout",
       "text": [
        "I will be bumping this tweet up a lot until #sfn15 #sorrynotsorry #listforthepeople https://t.co/Qe9Bx5X8P9\n",
        "                                         @neurofim https://twitter.com/ChrisFiloG/status/653217110177509378\n",
        "\n",
        "RT @edizquierdo: I'll be covering some of the work at #SfN15 for #PLOS. Expect a focus on computational neuroscience, behavior and cognitio\u2026\n",
        "                                                                         @PLOSNeuro https://twitter.com/ChrisFiloG/status/653202915658727424"
       ]
      },
      {
       "output_type": "stream",
       "stream": "stdout",
       "text": [
        "\n",
        "\n",
        "Dear neuro-tweeps: should poster text blocks be justified or left-aligned? #SfN15 #NoTextIsBetter #IKnowButICantHelpMyself\n",
        "                                                 @pierre_vanmedge https://twitter.com/ChrisFiloG/status/653202496194785280"
       ]
      },
      {
       "output_type": "stream",
       "stream": "stdout",
       "text": [
        "\n",
        "\n",
        "RT @yoavsibony: #HEKA symposium #SfN15\n",
        "Patchmaster: Introduction\n",
        "PatchServer: Automatic Patch Clamp System \n",
        "Sunday, Oct 18th, 6:30pm http:/\u2026\n",
        "                                                                      @Channelomics https://twitter.com/ChrisFiloG/status/653200933363564544"
       ]
      },
      {
       "output_type": "stream",
       "stream": "stdout",
       "text": [
        "\n",
        "\n",
        "RT @neurofim: https://t.co/23bIbXlWtp Whilst this list is long and distinguished (unlike my career), it needs YOU! #sfn15\n",
        "                                                      @devduthie https://twitter.com/ChrisFiloG/status/653170829149077504"
       ]
      },
      {
       "output_type": "stream",
       "stream": "stdout",
       "text": [
        "\n",
        "\n",
        "@AV_SP will do! (and follow @PLOSNeuro and our list https://t.co/j99rLetwCc for live #SfN15 coverage :)\n",
        "                              @pierre_vanmedge https://twitter.com/ChrisFiloG/status/653161246070546432"
       ]
      },
      {
       "output_type": "stream",
       "stream": "stdout",
       "text": [
        "\n",
        "\n",
        "@pierre_vanmedge &gt;.. attending #SfN15? Unfortunately, no. If you're ever in Sydney, drop me a line!\n",
        "                                       @AV_SP https://twitter.com/ChrisFiloG/status/653160780301385728"
       ]
      },
      {
       "output_type": "stream",
       "stream": "stdout",
       "text": [
        "\n",
        "\n",
        "#sfn15 or #sfn2015? N(tweets) since 1st Oct marginally tips #sfn2015 but I'm with @doc_becca: need those 2 characters. Both would be silly!\n",
        "                                                                  @Science2Inspire https://twitter.com/ChrisFiloG/status/653160720343912448"
       ]
      },
      {
       "output_type": "stream",
       "stream": "stdout",
       "text": [
        "\n",
        "\n",
        "RT @TheColeLab: The Cole Lab has 4 poster presentations at #SfN15, covering brain networks, dynamics, and cognitive control http://t.co/sZO\u2026\n",
        "                                                                          @eglerean https://twitter.com/ChrisFiloG/status/653142213547958272"
       ]
      },
      {
       "output_type": "stream",
       "stream": "stdout",
       "text": [
        "\n",
        "\n",
        "@AV_SP hi, will you be attending #SfN15? Would enjoy a chat with you\n",
        "@pierre_vanmedge https://twitter.com/ChrisFiloG/status/653139784349708288"
       ]
      },
      {
       "output_type": "stream",
       "stream": "stdout",
       "text": [
        "\n",
        "\n",
        "RT @NeuroDebian: de-v #neurodebian mirror (http://t.co/KpQTFHREFx) was decomissioned -- please choose another mirror if it was your primary.\n",
        "                                                                            @esc___ https://twitter.com/ChrisFiloG/status/652916045381042178"
       ]
      },
      {
       "output_type": "stream",
       "stream": "stdout",
       "text": [
        "\n",
        "\n",
        "de-v #neurodebian mirror (http://t.co/KpQTFHREFx) was decomissioned -- please choose another mirror if it was your primary.\n",
        "                                                      @NeuroDebian https://twitter.com/ChrisFiloG/status/652915316712865792"
       ]
      },
      {
       "output_type": "stream",
       "stream": "stdout",
       "text": [
        "\n",
        "\n",
        "RT @NeuroDebian: FSL 5.0.9 rolling into #NeuroDebian. 32bit users, please be patient. Eddy users watch out for fsl-5.0-eddy-nonfree!\n",
        "                                                              @AmirHusseinA https://twitter.com/ChrisFiloG/status/652473145409056768"
       ]
      },
      {
       "output_type": "stream",
       "stream": "stdout",
       "text": [
        "\n",
        "\n",
        "FSL 5.0.9 rolling into #NeuroDebian. 32bit users, please be patient. Eddy users watch out for fsl-5.0-eddy-nonfree!\n",
        "                                              @NeuroDebian https://twitter.com/ChrisFiloG/status/652467162070818817"
       ]
      },
      {
       "output_type": "stream",
       "stream": "stdout",
       "text": [
        "\n",
        "\n",
        "RT @NeuroDebian: New-package-frenzy: dcm2niix, heudiconv, mridefacer, and dcmstack now available from #NeuroDebian\n",
        "                                                @wandedob https://twitter.com/ChrisFiloG/status/652347896285818881"
       ]
      },
      {
       "output_type": "stream",
       "stream": "stdout",
       "text": [
        "\n",
        "\n",
        "New-package-frenzy: dcm2niix, heudiconv, mridefacer, and dcmstack now available from #NeuroDebian\n",
        "                            @NeuroDebian https://twitter.com/ChrisFiloG/status/652345194310946816"
       ]
      },
      {
       "output_type": "stream",
       "stream": "stdout",
       "text": [
        "\n",
        "\n",
        "Just testing -- posting\n",
        "@yarikoptictest https://twitter.com/ChrisFiloG/status/653023997869846529"
       ]
      },
      {
       "output_type": "stream",
       "stream": "stdout",
       "text": [
        "\n",
        "\n",
        "[In bioinformatics] The citation benefit was greatest for data published in 2004 and 2005, at about 30%\n",
        "    Data reuse and the open data citation advantage, Piwowar&Vision http://dx.doi.org/10.7717/peerj.175"
       ]
      },
      {
       "output_type": "stream",
       "stream": "stdout",
       "text": [
        "\n",
        "\n",
        "Brainhack Americas will be held in 10 cities across 5 time zones on Oct 23-25. Everyone is welcome to join!\n",
        "    https://docs.google.com/spreadsheets/d/1JpkqwuvVLtLgj1rxlvaIC2dxD2qGMXmqHHJfejKWGA0/edit#gid=1157977888"
       ]
      },
      {
       "output_type": "stream",
       "stream": "stdout",
       "text": [
        "\n",
        "\n",
        "Just 38% of 394 data sharing requests fulfilled [for four APA journals in 2012]\n",
        "Are We Wasting a Good Crisis? ..., Vanpaemel et al, 2015 http://dx.doi.org/10.1525/collabra.13"
       ]
      },
      {
       "output_type": "stream",
       "stream": "stdout",
       "text": [
        "\n",
        "\n",
        "\u201c68% (95%-CI [64, 72]) of [neuroscientists] reported to be using [GNU/Linux] \u2026 52% for Windows and 26% for Mac OS X\u201d\n",
        "                     Neuroscience runs on GNU/Linux, Hanke&Halchenko 2001 http://dx.doi.org/10.3389/fninf.2011.00008"
       ]
      },
      {
       "output_type": "stream",
       "stream": "stdout",
       "text": [
        "\n",
        "\n",
        "\u201cThe human brain produces in 30 seconds as much data as the Hubble Space Telescope has produced in its lifetime.\u201d\n",
        "                                                  Konrad Kording of Northwestern University in Chicago, Illinois."
       ]
      },
      {
       "output_type": "stream",
       "stream": "stdout",
       "text": [
        "\n",
        "\n",
        "Just 38% of 394 data sharing requests fulfilled [for four APA journals in 2012]\n",
        "Are We Wasting a Good Crisis? ..., Vanpaemel et al, 2015 http://dx.doi.org/10.1525/collabra.13"
       ]
      },
      {
       "output_type": "stream",
       "stream": "stdout",
       "text": [
        "\n",
        "\n",
        "\u201c68% (95%-CI [64, 72]) of [neuroscientists] reported to be using [GNU/Linux] \u2026 52% for Windows and 26% for Mac OS X\u201d\n",
        "                     Neuroscience runs on GNU/Linux, Hanke&Halchenko 2001 http://dx.doi.org/10.3389/fninf.2011.00008"
       ]
      },
      {
       "output_type": "stream",
       "stream": "stdout",
       "text": [
        "\n",
        "\n",
        "There are 9336 statistical maps, masks, atlases and parcellation in http://NeuroVault.org\n",
        "                     @ChrisFiloG https://twitter.com/ChrisFiloG/status/644210801964781568"
       ]
      },
      {
       "output_type": "stream",
       "stream": "stdout",
       "text": [
        "\n",
        "\n",
        "\u201cThe human brain produces in 30 seconds as much data as the Hubble Space Telescope has produced in its lifetime.\u201d\n",
        "                                                  Konrad Kording of Northwestern University in Chicago, Illinois."
       ]
      },
      {
       "output_type": "stream",
       "stream": "stdout",
       "text": [
        "\n",
        "\n",
        "There are 9336 statistical maps, masks, atlases and parcellation in http://NeuroVault.org\n",
        "                     @ChrisFiloG https://twitter.com/ChrisFiloG/status/644210801964781568"
       ]
      },
      {
       "output_type": "stream",
       "stream": "stdout",
       "text": [
        "\n",
        "\n",
        "\u201cThe human brain produces in 30 seconds as much data as the Hubble Space Telescope has produced in its lifetime.\u201d\n",
        "                                                  Konrad Kording of Northwestern University in Chicago, Illinois."
       ]
      },
      {
       "output_type": "stream",
       "stream": "stdout",
       "text": [
        "\n",
        "\n",
        "[In bioinformatics] The citation benefit was greatest for data published in 2004 and 2005, at about 30%\n",
        "    Data reuse and the open data citation advantage, Piwowar&Vision http://dx.doi.org/10.7717/peerj.175"
       ]
      },
      {
       "output_type": "stream",
       "stream": "stdout",
       "text": [
        "\n",
        "\n",
        "\u201c68% (95%-CI [64, 72]) of [neuroscientists] reported to be using [GNU/Linux] \u2026 52% for Windows and 26% for Mac OS X\u201d\n",
        "                     Neuroscience runs on GNU/Linux, Hanke&Halchenko 2001 http://dx.doi.org/10.3389/fninf.2011.00008"
       ]
      },
      {
       "output_type": "stream",
       "stream": "stdout",
       "text": [
        "\n",
        "\n",
        "\u201c68% (95%-CI [64, 72]) of [neuroscientists] reported to be using [GNU/Linux] \u2026 52% for Windows and 26% for Mac OS X\u201d\n",
        "                     Neuroscience runs on GNU/Linux, Hanke&Halchenko 2001 http://dx.doi.org/10.3389/fninf.2011.00008"
       ]
      },
      {
       "output_type": "stream",
       "stream": "stdout",
       "text": [
        "\n",
        "\n",
        "NeuroSynth (http://neurosynth.org) dataset contains 413429 activations reported in 11406 studies and a meta-analyses of 3107 terms"
       ]
      },
      {
       "output_type": "stream",
       "stream": "stdout",
       "text": [
        "\n",
        "\n",
        "Just 38% of 394 data sharing requests fulfilled [for four APA journals in 2012]\n",
        "Are We Wasting a Good Crisis? ..., Vanpaemel et al, 2015 http://dx.doi.org/10.1525/collabra.13"
       ]
      },
      {
       "output_type": "stream",
       "stream": "stdout",
       "text": [
        "\n",
        "\n",
        "Haxby 2001 Faces and Objects in Ventral Temporal Cortex (fMRI) dataset was reused over in 40 publications"
       ]
      },
      {
       "output_type": "stream",
       "stream": "stdout",
       "text": [
        "\n",
        "\n",
        "\u201c68% (95%-CI [64, 72]) of [neuroscientists] reported to be using [GNU/Linux] \u2026 52% for Windows and 26% for Mac OS X\u201d\n",
        "                     Neuroscience runs on GNU/Linux, Hanke&Halchenko 2001 http://dx.doi.org/10.3389/fninf.2011.00008"
       ]
      },
      {
       "output_type": "stream",
       "stream": "stdout",
       "text": [
        "\n",
        "\n",
        "\u201c68% (95%-CI [64, 72]) of [neuroscientists] reported to be using [GNU/Linux] \u2026 52% for Windows and 26% for Mac OS X\u201d\n",
        "                     Neuroscience runs on GNU/Linux, Hanke&Halchenko 2001 http://dx.doi.org/10.3389/fninf.2011.00008"
       ]
      },
      {
       "output_type": "stream",
       "stream": "stdout",
       "text": [
        "\n",
        "\n",
        "NeuroSynth (http://neurosynth.org) dataset contains 413429 activations reported in 11406 studies and a meta-analyses of 3107 terms"
       ]
      },
      {
       "output_type": "stream",
       "stream": "stdout",
       "text": [
        "\n",
        "\n",
        "\u201cThe human brain produces in 30 seconds as much data as the Hubble Space Telescope has produced in its lifetime.\u201d\n",
        "                                                  Konrad Kording of Northwestern University in Chicago, Illinois."
       ]
      },
      {
       "output_type": "stream",
       "stream": "stdout",
       "text": [
        "\n",
        "\n",
        "NeuroSynth (http://neurosynth.org) dataset contains 413429 activations reported in 11406 studies and a meta-analyses of 3107 terms"
       ]
      },
      {
       "output_type": "stream",
       "stream": "stdout",
       "text": [
        "\n",
        "\n",
        "\u201c68% (95%-CI [64, 72]) of [neuroscientists] reported to be using [GNU/Linux] \u2026 52% for Windows and 26% for Mac OS X\u201d\n",
        "                     Neuroscience runs on GNU/Linux, Hanke&Halchenko 2001 http://dx.doi.org/10.3389/fninf.2011.00008"
       ]
      },
      {
       "output_type": "stream",
       "stream": "stdout",
       "text": [
        "\n",
        "\n",
        "\u201cThe human brain produces in 30 seconds as much data as the Hubble Space Telescope has produced in its lifetime.\u201d\n",
        "                                                  Konrad Kording of Northwestern University in Chicago, Illinois."
       ]
      },
      {
       "output_type": "stream",
       "stream": "stdout",
       "text": [
        "\n",
        "\n",
        "\u201cThe human brain produces in 30 seconds as much data as the Hubble Space Telescope has produced in its lifetime.\u201d\n",
        "                                                  Konrad Kording of Northwestern University in Chicago, Illinois."
       ]
      },
      {
       "output_type": "stream",
       "stream": "stdout",
       "text": [
        "\n",
        "\n",
        "Just 38% of 394 data sharing requests fulfilled [for four APA journals in 2012]\n",
        "Are We Wasting a Good Crisis? ..., Vanpaemel et al, 2015 http://dx.doi.org/10.1525/collabra.13"
       ]
      },
      {
       "output_type": "stream",
       "stream": "stdout",
       "text": [
        "\n",
        "\n",
        "[In bioinformatics] The citation benefit was greatest for data published in 2004 and 2005, at about 30%\n",
        "    Data reuse and the open data citation advantage, Piwowar&Vision http://dx.doi.org/10.7717/peerj.175"
       ]
      },
      {
       "output_type": "stream",
       "stream": "stdout",
       "text": [
        "\n",
        "\n",
        "Haxby 2001 Faces and Objects in Ventral Temporal Cortex (fMRI) dataset was reused over in 40 publications"
       ]
      },
      {
       "output_type": "stream",
       "stream": "stdout",
       "text": [
        "\n",
        "\n",
        "Just 38% of 394 data sharing requests fulfilled [for four APA journals in 2012]\n",
        "Are We Wasting a Good Crisis? ..., Vanpaemel et al, 2015 http://dx.doi.org/10.1525/collabra.13"
       ]
      },
      {
       "output_type": "stream",
       "stream": "stdout",
       "text": [
        "\n",
        "\n",
        "Brainhack Americas will be held in 10 cities across 5 time zones on Oct 23-25. Everyone is welcome to join!\n",
        "    https://docs.google.com/spreadsheets/d/1JpkqwuvVLtLgj1rxlvaIC2dxD2qGMXmqHHJfejKWGA0/edit#gid=1157977888"
       ]
      },
      {
       "output_type": "stream",
       "stream": "stdout",
       "text": [
        "\n",
        "\n",
        "[In bioinformatics] The citation benefit was greatest for data published in 2004 and 2005, at about 30%\n",
        "    Data reuse and the open data citation advantage, Piwowar&Vision http://dx.doi.org/10.7717/peerj.175"
       ]
      },
      {
       "output_type": "stream",
       "stream": "stdout",
       "text": [
        "\n",
        "\n",
        "Haxby 2001 Faces and Objects in Ventral Temporal Cortex (fMRI) dataset was reused over in 40 publications"
       ]
      },
      {
       "output_type": "stream",
       "stream": "stdout",
       "text": [
        "\n",
        "\n",
        "\u201cThe human brain produces in 30 seconds as much data as the Hubble Space Telescope has produced in its lifetime.\u201d\n",
        "                                                  Konrad Kording of Northwestern University in Chicago, Illinois."
       ]
      },
      {
       "output_type": "stream",
       "stream": "stdout",
       "text": [
        "\n",
        "\n",
        "There are 9336 statistical maps, masks, atlases and parcellation in http://NeuroVault.org\n",
        "                     @ChrisFiloG https://twitter.com/ChrisFiloG/status/644210801964781568"
       ]
      },
      {
       "output_type": "stream",
       "stream": "stdout",
       "text": [
        "\n",
        "\n",
        "There are 9336 statistical maps, masks, atlases and parcellation in http://NeuroVault.org\n",
        "                     @ChrisFiloG https://twitter.com/ChrisFiloG/status/644210801964781568"
       ]
      }
     ]
    },
    {
     "cell_type": "code",
     "collapsed": false,
     "input": [],
     "language": "python",
     "metadata": {},
     "outputs": []
    }
   ],
   "metadata": {}
  }
 ]
}